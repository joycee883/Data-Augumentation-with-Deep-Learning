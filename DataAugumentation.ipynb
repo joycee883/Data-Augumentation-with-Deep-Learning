{
 "cells": [
  {
   "cell_type": "markdown",
   "metadata": {},
   "source": [
    "# 🌟 Image Data Augmentation: Transforming Data into Gold! 🌟\n",
    "\n",
    "## 🖼️ Introduction: Why Augment Images?\n",
    "\n",
    "Imagine having a small dataset, and yet, you want your AI model to perform like it’s trained on millions of examples. **How do you achieve this?** Enter **Image Data Augmentation**—the art of creating more training data by applying transformations like rotation, zooming, flipping, and more.\n",
    "\n",
    "This notebook demonstrates how to use Keras's `ImageDataGenerator` to:\n",
    "- Expand your dataset without collecting new images.\n",
    "- Create variations that make your AI smarter and more robust.\n",
    "\n",
    "---\n",
    "\n",
    "## 📚 Step 1: Import the Magic Ingredients\n",
    "\n",
    "Let’s bring in the heroes of our story—the libraries that power data augmentation. With just a few imports, we’re ready to revolutionize our dataset!\n",
    "\n",
    "# Importing Keras modules for image augmentation"
   ]
  },
  {
   "cell_type": "code",
   "execution_count": null,
   "metadata": {},
   "outputs": [],
   "source": [
    "\n",
    "from tensorflow.keras.preprocessing.image import ImageDataGenerator, array_to_img, img_to_array, load_img\n"
   ]
  },
  {
   "cell_type": "markdown",
   "metadata": {},
   "source": [
    "## 🛠️ Step 2: Set Up the Transformation Workshop\n",
    "\n",
    "Here’s where the magic happens. We configure our Transformation Workshop with creative tweaks like:\n",
    "\n",
    "---\n",
    "\n",
    "- Spinning the image (rotation).\n",
    "- Zooming in for a closer look (zoom).\n",
    "- Flipping it horizontally for a fresh perspective."
   ]
  },
  {
   "cell_type": "code",
   "execution_count": null,
   "metadata": {},
   "outputs": [],
   "source": [
    "datagen = ImageDataGenerator(\n",
    "        rotation_range=40,          # Random rotations up to 40 degrees\n",
    "        width_shift_range=0.2,      # Random width shift by 20%\n",
    "        height_shift_range=0.2,     # Random height shift by 20%\n",
    "        shear_range=0.2,            # Shear transformations\n",
    "        zoom_range=0.2,             # Random zoom\n",
    "        horizontal_flip=True,       # Random horizontal flip\n",
    "        fill_mode='nearest'         # Fill missing pixels after transformation\n",
    ")\n"
   ]
  },
  {
   "cell_type": "markdown",
   "metadata": {},
   "source": [
    "## 🖌️ Step 3: Load the Canvas\n",
    "An artist needs a canvas, and we need an image to start painting transformations! Load an image and prepare it for the augmentation process.\n",
    "\n"
   ]
  },
  {
   "cell_type": "code",
   "execution_count": null,
   "metadata": {},
   "outputs": [],
   "source": [
    "# Loading the original image (our canvas for transformations)\n",
    "img = load_img(r\"C:\\Users\\91939\\Desktop\\AI&DS\\Data science projects\\Data Augumentation\\beautiful-woman-with-dog.jpg\")\n",
    "\n",
    "# Converting the loaded image to a format understood by ImageDataGenerator\n",
    "x = img_to_array(img)  # Convert to a NumPy array for processing\n",
    "x = x.reshape((1,) + x.shape)  # Reshape to match the input format of ImageDataGenerator"
   ]
  },
  {
   "cell_type": "code",
   "execution_count": null,
   "metadata": {},
   "outputs": [],
   "source": [
    "img"
   ]
  },
  {
   "cell_type": "markdown",
   "metadata": {},
   "source": [
    "## 🎭 Step 4: Let the Augmentation Begin!\n",
    "The stage is set! Let’s create 30 transformed versions of our image—each unique, each beautiful, and each a potential asset for our AI."
   ]
  },
  {
   "cell_type": "code",
   "execution_count": null,
   "metadata": {},
   "outputs": [],
   "source": [
    "x = img_to_array(img)  # this is a Numpy array with shape (3, 150, 150)\n",
    "x = x.reshape((1,) + x.shape)  # this is a Numpy array with shape (1, 3, 150, 150)\n",
    "\n",
    "# the .flow() command below generates batches of randomly transformed images\n",
    "# and saves the results to the `preview/` directory\n",
    "i = 0\n",
    "for batch in datagen.flow(x, batch_size=1,\n",
    "                          save_to_dir=r\"C:\\Users\\91939\\Desktop\\AI&DS\\Data science projects\\Data Augumentation\\Output Pictures\", save_prefix='petlove', save_format='jpeg'):\n",
    "    i += 1\n",
    "    if i > 30:\n",
    "        break  # otherwise the generator would loop indefinitely  "
   ]
  }
 ],
 "metadata": {
  "kernelspec": {
   "display_name": "base",
   "language": "python",
   "name": "python3"
  },
  "language_info": {
   "codemirror_mode": {
    "name": "ipython",
    "version": 3
   },
   "file_extension": ".py",
   "mimetype": "text/x-python",
   "name": "python",
   "nbconvert_exporter": "python",
   "pygments_lexer": "ipython3",
   "version": "3.12.4"
  }
 },
 "nbformat": 4,
 "nbformat_minor": 2
}
